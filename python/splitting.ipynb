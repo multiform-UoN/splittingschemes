{
 "cells": [
  {
   "cell_type": "markdown",
   "id": "bddc5845-1af4-4697-b729-2bf719573538",
   "metadata": {
    "tags": []
   },
   "source": [
    "$$A\\mathbf{u} + B\\mathbf{v} = \\mathbf{f}_1$$\n",
    "$$C\\mathbf{u} + D\\mathbf{v} = \\mathbf{f}_2$$\n",
    "\n",
    "$$(A + L_\\mathbf{u}\\mathbb{I})\\mathbf{u}^k =  \\mathbf{f}_1 - B\\mathbf{v}^k + L_\\mathbf{u} \\mathbf{u}^{k-1}$$\n",
    "$$(C + D\\mathbb{D}^{-1}B + L_\\mathbf{v}\\mathbb{I})\\mathbf{v}^k = \\mathbf{f}_2 + D\\mathbb{D}^{-1}\\mathbf{f}_1 - \\mathbb{D}^{-1}\\mathbf{h}^{k-1} + L_\\mathbf{v} \\mathbf{v}^{k-1} $$\n",
    "$$\\mathbf{h}^i := (A-\\mathbb{D})\\mathbf{u}^i$$"
   ]
  },
  {
   "cell_type": "code",
   "execution_count": 10,
   "id": "b09ee38f-b38c-49fe-af18-363010f5486a",
   "metadata": {},
   "outputs": [],
   "source": [
    "import scipy.sparse as sparse\n",
    "import scipy.linalg as linalg\n",
    "from scipy.sparse.linalg import spsolve\n",
    "from scipy.sparse import csc_matrix\n",
    "import matplotlib.pyplot as plt\n",
    "import numpy as np"
   ]
  },
  {
   "cell_type": "code",
   "execution_count": 14,
   "id": "158db4d9",
   "metadata": {
    "tags": []
   },
   "outputs": [],
   "source": [
    "def generateInvRandomMatrices(size):\n",
    "    density = 0.3\n",
    "    diag = 0.9\n",
    "    X = sparse.identity(2*size).multiply(diag)\n",
    "    Y = sparse.rand(2*size, 2*size, density=density, format=\"csr\", random_state=55)\n",
    "    Y = sparse.triu(Y)\n",
    "    Z = X + Y\n",
    "    if False: #columns shuffle\n",
    "        Z = Z.todense()\n",
    "        Z = Z[:, np.random.permutation(Z.shape[1])]\n",
    "        Z =  sparse.csc_matrix(Z)\n",
    "    A = Z[:size,:size]\n",
    "    B = Z[:size,size:]\n",
    "    C = Z[size:,:size]\n",
    "    D = Z[size:,size:]\n",
    "    return A, B, C, D, Z\n",
    "\n",
    "def solveP0(A, B, Lu, v1, u0, f1):\n",
    "    u = spsolve(A + sparse.identity(A.shape[0]).multiply(Lu), f1 - B.dot(v1) + Lu*u0)\n",
    "    return u\n",
    "\n",
    "def solveP1(A, B, C, D, Lv, u0, v0, f1, f2, opD, invOpD):\n",
    "    M = C + D.dot(invOpD).dot(B) + sparse.identity(C.shape[0]).multiply(Lv)\n",
    "    h = (A - opD).dot(u0)\n",
    "    f = f2 + D.dot(invOpD).dot(f1) - invOpD.dot(h) + Lv*v0\n",
    "    v = spsolve(M, f)\n",
    "    return v\n",
    "\n",
    "def method0(**kwargs):\n",
    "    print(\"method 0\")\n",
    "    A = kwargs['A']\n",
    "    B = kwargs['B']\n",
    "    C = kwargs['C']\n",
    "    D = kwargs['D']    \n",
    "    f1 = kwargs['f1']\n",
    "    f2 = kwargs['f2']\n",
    "    Z = kwargs['Z']\n",
    "    nit = kwargs['nit']\n",
    "\n",
    "    f = np.concatenate((f1,f2))\n",
    "    sol = spsolve(Z, f)\n",
    "    print(f\"monolitic error = {np.linalg.norm(f-Z.dot(sol))}\")\n",
    "    \n",
    "    Lu = kwargs['Lu']\n",
    "    Lv = kwargs['Lv']\n",
    "    \n",
    "    u = np.zeros(A.shape[0])\n",
    "    v = np.zeros(A.shape[0])\n",
    "    for i in range(nit):\n",
    "        v = spsolve(D, f2 - C.dot(u))\n",
    "        u = spsolve(A + sparse.identity(A.shape[0]).multiply(Lv), f1 - B.dot(v) + Lv*v)\n",
    "        print(f\"it={i}   residual={np.linalg.norm(sol - np.concatenate((v,u)))}\")\n",
    "\n",
    "    return u, v, sol\n",
    "    \n",
    "    \n",
    "def method1(**kwargs):\n",
    "    print(\"method 1\")\n",
    "    A = kwargs['A']\n",
    "    B = kwargs['B']\n",
    "    C = kwargs['C']\n",
    "    D = kwargs['D']\n",
    "    Lu = kwargs['Lu']\n",
    "    Lv = kwargs['Lv']\n",
    "    f1 = kwargs['f1']\n",
    "    f2 = kwargs['f2']\n",
    "    Z = kwargs['Z']\n",
    "    \n",
    "    f = np.concatenate((f1,f2))\n",
    "    sol = spsolve(Z, f)\n",
    "    print(f\"monolitic error = {np.linalg.norm(f-Z.dot(sol))}\")\n",
    "    \n",
    "    opD = np.zeros(A.shape)\n",
    "    np.fill_diagonal(opD, A.diagonal())\n",
    "    opD = opD + 1*np.eye(A.shape[0])\n",
    "    invOpD = sparse.csc_matrix(np.linalg.inv(opD))\n",
    "    opD = sparse.csc_matrix(opD)\n",
    "\n",
    "    nit = kwargs['nit']\n",
    "    u = np.zeros(A.shape[0])\n",
    "    v = np.zeros(A.shape[0])\n",
    "    for i in range(nit):\n",
    "        v = solveP1(A, B, C, D, Lv, u, v, f1, f2, opD, invOpD)\n",
    "        u = solveP0(A, B, Lu, v, u, f1)\n",
    "        print(f\"it={i}   res={np.linalg.norm(sol - np.concatenate((u,v)))}\")\n",
    "    return u, v, opD, invOpD, sol"
   ]
  },
  {
   "cell_type": "code",
   "execution_count": 15,
   "id": "adaccca5",
   "metadata": {
    "tags": []
   },
   "outputs": [
    {
     "name": "stdout",
     "output_type": "stream",
     "text": [
      "determinant of Z = 1.8894796893179218\n",
      "\n",
      "method 0\n",
      "monolitic error = 1.7787946215439797e-15\n",
      "it=0   residual=8.417196467601855\n",
      "it=1   residual=8.417196467601855\n",
      "it=2   residual=8.417196467601855\n",
      "it=3   residual=8.417196467601855\n",
      "it=4   residual=8.417196467601855\n",
      "\n",
      "method 1\n",
      "monolitic error = 1.7787946215439797e-15\n",
      "it=0   res=6.424960702155291\n",
      "it=1   res=12.070749853200121\n",
      "it=2   res=27.07004419040814\n",
      "it=3   res=103.91762177892923\n",
      "it=4   res=345.3801376154593\n"
     ]
    }
   ],
   "source": [
    "size = 20\n",
    "A, B, C, D, Z = generateInvRandomMatrices(size)\n",
    "Lu = 0.0\n",
    "Lv = 1.0\n",
    "f1 = np.random.rand(size)\n",
    "f2 = np.random.rand(size)\n",
    "nit = 5\n",
    "\n",
    "print(\"determinant of Z =\", linalg.det(Z.todense()))\n",
    "\n",
    "print()\n",
    "\n",
    "u_m0, v_m0, sol_m0 = method0(A=A, B=B, C=C, D=D, f1=f1, f2=f2, nit=nit, Z=Z, Lu=Lu, Lv=Lv)\n",
    "\n",
    "print()\n",
    "\n",
    "u_m1, v_m1, opD, invOpD, sol_m1 = method1(A=A, B=B, C=C, D=D, Lu=Lu, Lv=Lv, f1=f1, f2=f2, nit=nit, Z=Z)"
   ]
  },
  {
   "cell_type": "code",
   "execution_count": 16,
   "id": "d4e79fcd",
   "metadata": {
    "tags": []
   },
   "outputs": [
    {
     "data": {
      "text/plain": [
       "<matplotlib.colorbar.Colorbar at 0x7fd5900ac130>"
      ]
     },
     "execution_count": 16,
     "metadata": {},
     "output_type": "execute_result"
    },
    {
     "data": {
      "image/png": "[encoded data removed]",
      "text/plain": [
       "<Figure size 720x360 with 12 Axes>"
      ]
     },
     "metadata": {
      "needs_background": "light"
     },
     "output_type": "display_data"
    }
   ],
   "source": [
    "fig, axs = plt.subplots(2, 3, figsize=(10,5))\n",
    "cax1 = axs[0,0].matshow(A.todense())\n",
    "cax2 = axs[0,1].matshow(B.todense())\n",
    "cax3 = axs[1,0].matshow(C.todense())\n",
    "cax4 = axs[1,1].matshow(D.todense())\n",
    "cax5 = axs[0,2].matshow(opD.todense())\n",
    "cax6 = axs[1,2].matshow(invOpD.todense())\n",
    "fig.colorbar(cax1, ax=axs[0,0])\n",
    "fig.colorbar(cax2, ax=axs[0,1])\n",
    "fig.colorbar(cax3, ax=axs[1,0])\n",
    "fig.colorbar(cax4, ax=axs[1,1])\n",
    "fig.colorbar(cax5, ax=axs[0,2])\n",
    "fig.colorbar(cax6, ax=axs[1,2])"
   ]
  },
  {
   "cell_type": "code",
   "execution_count": 9,
   "id": "411985c9-1206-4509-ae8c-7e7b9672f92a",
   "metadata": {},
   "outputs": [
    {
     "data": {
      "image/png": "[encoded data removed]",
      "text/plain": [
       "<Figure size 432x288 with 1 Axes>"
      ]
     },
     "metadata": {
      "needs_background": "light"
     },
     "output_type": "display_data"
    }
   ],
   "source": [
    "uv_m0 = np.concatenate((u_m0,v_m0))\n",
    "uv_m1 = np.concatenate((u_m1,v_m1))\n",
    "\n",
    "plt.plot()\n",
    "plt.grid()\n",
    "plt.show()"
   ]
  },
  {
   "cell_type": "code",
   "execution_count": null,
   "id": "befd40f1",
   "metadata": {},
   "outputs": [],
   "source": []
  }
 ],
 "metadata": {
  "kernelspec": {
   "display_name": "Python 3 (ipykernel)",
   "language": "python",
   "name": "python3"
  },
  "language_info": {
   "codemirror_mode": {
    "name": "ipython",
    "version": 3
   },
   "file_extension": ".py",
   "mimetype": "text/x-python",
   "name": "python",
   "nbconvert_exporter": "python",
   "pygments_lexer": "ipython3",
   "version": "3.8.10"
  }
 },
 "nbformat": 4,
 "nbformat_minor": 5
}
