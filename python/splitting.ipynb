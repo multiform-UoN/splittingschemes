{
 "cells": [
  {
   "cell_type": "raw",
   "id": "c3797afa",
   "metadata": {},
   "source": [
    "def method_gradsplit(nit, alpha):\n",
    "    u = np.zeros(A.shape[0])\n",
    "    v = np.zeros(A.shape[0])\n",
    "    res = []\n",
    "    AtA = np.dot(A.T,A)\n",
    "    CtC = np.dot(C.T,C)\n",
    "    AtB = np.dot(A.T,B)\n",
    "    CtD = np.dot(C.T,D)\n",
    "    BtA = np.dot(B.T,A)\n",
    "    DtC = np.dot(D.T,C)\n",
    "    BtB = np.dot(B.T,B)\n",
    "    DtD = np.dot(D.T,D)\n",
    "    for i in range(nit):\n",
    "        u = u - alpha*2*(np.dot(AtA+CtC,u) + np.dot(AtB+CtD,v) - np.dot(A.T,f1) - np.dot(C.T,f2))\n",
    "        v = v - alpha*2*(np.dot(BtA+DtC,u) + np.dot(BtB+DtD,v) - np.dot(B.T,f1) - np.dot(D.T,f2))\n",
    "        res.append(np.linalg.norm(sol - np.concatenate((u,v))))\n",
    "    return u, v, np.array(res)\n",
    "\n",
    "def method_grad(nit, alpha):\n",
    "    uv = np.zeros(2*size)\n",
    "    res = []\n",
    "    for i in range(nit):\n",
    "        uv = uv - alpha*2*np.dot(Z.T,np.dot(Z,uv)-f)\n",
    "        res.append(np.linalg.norm(sol - uv))\n",
    "    return uv, np.array(res)"
   ]
  },
  {
   "cell_type": "code",
   "execution_count": 2,
   "id": "b09ee38f-b38c-49fe-af18-363010f5486a",
   "metadata": {},
   "outputs": [],
   "source": [
    "#from scipy.sparse.linalg import spsolve\n",
    "#from scipy.sparse import csc_matrix\n",
    "#import scipy.sparse as sparse\n",
    "import scipy.linalg as linalg\n",
    "import matplotlib.pyplot as plt\n",
    "import numpy as np\n",
    "import matplotlib as mpl\n",
    "import mylib\n",
    "from scipy import stats\n",
    "\n",
    "def method_gradsplit(nit, alpha):\n",
    "    u = np.zeros(A.shape[0])\n",
    "    v = np.zeros(A.shape[0])\n",
    "    res = []\n",
    "    AtA = np.dot(A.T,A)\n",
    "    CtC = np.dot(C.T,C)\n",
    "    AtB = np.dot(A.T,B)\n",
    "    CtD = np.dot(C.T,D)\n",
    "    BtA = np.dot(B.T,A)\n",
    "    DtC = np.dot(D.T,C)\n",
    "    BtB = np.dot(B.T,B)\n",
    "    DtD = np.dot(D.T,D)\n",
    "    for i in range(nit):\n",
    "        u = u - alpha*2*(np.dot(AtA+CtC,u) + np.dot(AtB+CtD,v) - np.dot(A.T,f1) - np.dot(C.T,f2))\n",
    "        v = v - alpha*2*(np.dot(BtA+DtC,u) + np.dot(BtB+DtD,v) - np.dot(B.T,f1) - np.dot(D.T,f2))\n",
    "        res.append(np.linalg.norm(sol - np.concatenate((u,v))))\n",
    "    return u, v, np.array(res)\n",
    "\n",
    "def method_grad(nit, alpha):\n",
    "    uv = np.zeros(2*size)\n",
    "    res = []\n",
    "    for i in range(nit):\n",
    "        uv = uv - alpha*2*np.dot(Z.T,np.dot(Z,uv)-f)\n",
    "        res.append(np.linalg.norm(sol - uv))\n",
    "    return uv, np.array(res)"
   ]
  },
  {
   "cell_type": "markdown",
   "id": "fec6ae74-e901-4660-b36e-436585479317",
   "metadata": {
    "tags": []
   },
   "source": [
    "$[D - \\mathbb{C}\\mathbb{A}^{-1}B]\\mathbf{v}^{k+1} = (\\mathbb{C}-C)\\mathbf{u}^k -\\mathbb{C}\\mathbb{A}^{-1}[\\mathbf{f}_1 + (\\mathbb{A}-A)\\mathbf{u}^k] + \\mathbf{f}_2$\n",
    "\n",
    "$A\\mathbf{u}^{k+1}=-B\\mathbf{v}^{k+1}$"
   ]
  },
  {
   "cell_type": "code",
   "execution_count": 3,
   "id": "3dbb7eb8-b1ba-45a5-8953-82ce827c8226",
   "metadata": {},
   "outputs": [
    {
     "name": "stdout",
     "output_type": "stream",
     "text": [
      "condition number of A = 178.06427461086045\n",
      "condition number of B = 178.06427461086028\n",
      "condition number of C = 178.06427461086028\n",
      "condition number of D = 8.17559185098828\n",
      "condition number of Z = 314.02685586172845\n",
      "\n",
      "monolithic error = 2.5295549050127242e-14\n"
     ]
    },
    {
     "data": {
      "image/png": "[encoded data removed]",
      "text/plain": [
       "<Figure size 1000x500 with 2 Axes>"
      ]
     },
     "metadata": {},
     "output_type": "display_data"
    },
    {
     "ename": "TypeError",
     "evalue": "method_BlockJacobi() takes 8 positional arguments but 9 were given",
     "output_type": "error",
     "traceback": [
      "\u001b[0;31m---------------------------------------------------------------------------\u001b[0m",
      "\u001b[0;31mTypeError\u001b[0m                                 Traceback (most recent call last)",
      "\u001b[1;32m/Users/nucar/projects/splittingschemes/python/splitting.ipynb Cell 4\u001b[0m line \u001b[0;36m5\n\u001b[1;32m     <a href='vscode-notebook-cell:/Users/nucar/projects/splittingschemes/python/splitting.ipynb#W3sZmlsZQ%3D%3D?line=54'>55</a>\u001b[0m plt\u001b[39m.\u001b[39mfigure(dpi\u001b[39m=\u001b[39m\u001b[39m100\u001b[39m, figsize\u001b[39m=\u001b[39m(\u001b[39m6\u001b[39m,\u001b[39m5\u001b[39m))\n\u001b[1;32m     <a href='vscode-notebook-cell:/Users/nucar/projects/splittingschemes/python/splitting.ipynb#W3sZmlsZQ%3D%3D?line=56'>57</a>\u001b[0m omega \u001b[39m=\u001b[39m \u001b[39m1.0\u001b[39m\n\u001b[0;32m---> <a href='vscode-notebook-cell:/Users/nucar/projects/splittingschemes/python/splitting.ipynb#W3sZmlsZQ%3D%3D?line=57'>58</a>\u001b[0m u_BJ,   v_BJ,   res_BJ   \u001b[39m=\u001b[39m mylib\u001b[39m.\u001b[39;49mmethod_BlockJacobi(A, B, C, D, f1, f2, nit, \u001b[39m0\u001b[39;49m, sol)\n\u001b[1;32m     <a href='vscode-notebook-cell:/Users/nucar/projects/splittingschemes/python/splitting.ipynb#W3sZmlsZQ%3D%3D?line=58'>59</a>\u001b[0m \u001b[39m#u_BSOR, v_BSOR, res_BSOR = mylib.method_BlockSOR(A, B, C, D, f1, f2, nit, omega, sol)\u001b[39;00m\n\u001b[1;32m     <a href='vscode-notebook-cell:/Users/nucar/projects/splittingschemes/python/splitting.ipynb#W3sZmlsZQ%3D%3D?line=59'>60</a>\u001b[0m \u001b[39m#u_BGS,  v_BGS,  res_BGS  = mylib.method_BlockGaussSeidel(A, B, C, D, f1, f2, nit, 0, sol)\u001b[39;00m\n\u001b[1;32m     <a href='vscode-notebook-cell:/Users/nucar/projects/splittingschemes/python/splitting.ipynb#W3sZmlsZQ%3D%3D?line=60'>61</a>\u001b[0m \u001b[39m#u_SPJ,  v_SPJ,  res_SPJ  = mylib.method_ShurPartialJacobi(A, B, C, D, f1, f2, nit, 0, sol)\u001b[39;00m\n\u001b[1;32m     <a href='vscode-notebook-cell:/Users/nucar/projects/splittingschemes/python/splitting.ipynb#W3sZmlsZQ%3D%3D?line=61'>62</a>\u001b[0m \u001b[39m#u_SPJ2, v_SPJ2, res_SPJ2 = mylib.method_ShurDualPartialJacobi(A, B, C, D, f1, f2, nit, sol)\u001b[39;00m\n\u001b[1;32m     <a href='vscode-notebook-cell:/Users/nucar/projects/splittingschemes/python/splitting.ipynb#W3sZmlsZQ%3D%3D?line=62'>63</a>\u001b[0m u_BSOR, v_BSOR, res_BSOR \u001b[39m=\u001b[39m mylib\u001b[39m.\u001b[39mmethod_BlockSOR(A, B, A\u001b[39m-\u001b[39mC, B\u001b[39m-\u001b[39mD, f1, f1\u001b[39m-\u001b[39mf2, nit, omega, sol)\n",
      "\u001b[0;31mTypeError\u001b[0m: method_BlockJacobi() takes 8 positional arguments but 9 were given"
     ]
    },
    {
     "data": {
      "text/plain": [
       "<Figure size 600x500 with 0 Axes>"
      ]
     },
     "metadata": {},
     "output_type": "display_data"
    }
   ],
   "source": [
    "def generate_fd1D_laplacian(size, w):\n",
    "    return w*(np.diag(-1*np.ones(size-1),-1) + np.diag(2*np.ones(size),0) + np.diag(-1*np.ones(size-1),1))\n",
    "\n",
    "def generate_diag(size, w):\n",
    "    return np.diag(w*np.ones(size),0)\n",
    "\n",
    "def generate_matrices(wA, wB, wC, wD):\n",
    "    A = generate_fd1D_laplacian(size, wA)\n",
    "    #A = generate_diag(size, wA)\n",
    "\n",
    "    B = generate_fd1D_laplacian(size, wB)\n",
    "    #B = generate_diag(size, wB)\n",
    "\n",
    "    C = generate_fd1D_laplacian(size, wC)\n",
    "    #C = generate_diag(size, wC)\n",
    "\n",
    "    D = generate_fd1D_laplacian(size, wD) + np.diag(np.random.rand(size),0)\n",
    "    #D = generate_diag(size, wD)\n",
    "\n",
    "    Z = np.zeros((2*size,2*size))\n",
    "    Z[:size,:size] = A\n",
    "    Z[:size,size:] = B\n",
    "    Z[size:,:size] = C\n",
    "    Z[size:,size:] = D\n",
    "    #print(\"determinant of A =\", linalg.det(A))\n",
    "    print(\"condition number of A =\", np.linalg.cond(A))\n",
    "    #print(\"determinant of B =\", linalg.det(B))\n",
    "    print(\"condition number of B =\", np.linalg.cond(B))\n",
    "    #print(\"determinant of C =\", linalg.det(C))\n",
    "    print(\"condition number of C =\", np.linalg.cond(C))\n",
    "    #print(\"determinant of D =\", linalg.det(D))\n",
    "    print(\"condition number of D =\", np.linalg.cond(D))\n",
    "    #print(\"determinant of Z =\", linalg.det(Z))\n",
    "    print(\"condition number of Z =\", np.linalg.cond(Z))\n",
    "    return A, B, C, D, Z\n",
    "\n",
    "size = 20\n",
    "A, B, C, D, Z = generate_matrices(wA=1.1, wB=0.5, wC=1, wD=1)\n",
    "f1 = np.random.rand(size)\n",
    "f2 = np.random.rand(size)\n",
    "f = np.concatenate((f1,f2))\n",
    "sol = linalg.solve(Z, f)\n",
    "print()\n",
    "print(f\"monolithic error = {np.linalg.norm(f-np.dot(Z,sol))}\")\n",
    "fig1, ax = plt.subplots(1, 1, figsize=(10,5))\n",
    "cax = ax.matshow(Z)\n",
    "fig1.colorbar(cax, ax=ax)\n",
    "plt.savefig('matrix.pdf')\n",
    "plt.show()\n",
    "\n",
    "nit = 20\n",
    "Lvec = [0.4, 0.5]\n",
    "clrs = ['r', 'b', 'g']\n",
    "\n",
    "plt.figure(dpi=100, figsize=(6,5))\n",
    "\n",
    "omega = 1.0\n",
    "u_BJ,   v_BJ,   res_BJ   = mylib.method_BlockJacobi(A, B, C, D, f1, f2, nit, 0, sol)\n",
    "#u_BSOR, v_BSOR, res_BSOR = mylib.method_BlockSOR(A, B, C, D, f1, f2, nit, omega, sol)\n",
    "#u_BGS,  v_BGS,  res_BGS  = mylib.method_BlockGaussSeidel(A, B, C, D, f1, f2, nit, 0, sol)\n",
    "#u_SPJ,  v_SPJ,  res_SPJ  = mylib.method_ShurPartialJacobi(A, B, C, D, f1, f2, nit, 0, sol)\n",
    "#u_SPJ2, v_SPJ2, res_SPJ2 = mylib.method_ShurDualPartialJacobi(A, B, C, D, f1, f2, nit, sol)\n",
    "u_BSOR, v_BSOR, res_BSOR = mylib.method_BlockSOR(A, B, A-C, B-D, f1, f1-f2, nit, omega, sol)\n",
    "u_BGS,  v_BGS,  res_BGS  = mylib.method_BlockGaussSeidel(A, B, A-C, B-D, f1, f1-f2, nit, 0, sol)\n",
    "u_SPJ,  v_SPJ,  res_SPJ  = mylib.method_ShurPartialJacobi(A, B, A-C, B-D, f1, f1-f2, nit, 0, sol)\n",
    "u_SPJ2, v_SPJ2, res_SPJ2 = mylib.method_ShurDualPartialJacobi(A, B, A-C, B-D, f1, f1-f2, nit, sol)\n",
    "\n",
    "nn = 5\n",
    "l1 = slope(res_BSOR[:nn])\n",
    "l2 = slope(res_BGS[:nn])\n",
    "l3 = slope(res_SPJ[:nn])\n",
    "l4 = slope(res_BJ[:nn])\n",
    "l5 = slope(res_SPJ2[:nn])\n",
    "\n",
    "plt.semilogy(res_BJ,  'c.-',  label=f\"Block-Jacobi               slope={np.round(-l4,3)}\")\n",
    "plt.semilogy(res_BSOR, 'r*-', label=f\"Block-SOR                  slope={np.round(-l1,3)}   omega={omega}\")\n",
    "plt.semilogy(res_BGS, 'b.-',  label=f\"Block-Gauss-Seidel         slope={np.round(-l2,3)}   \")\n",
    "plt.semilogy(res_SPJ, 'g.-',  label=f\"SPJ     slope={np.round(-l3,3)}\")\n",
    "plt.semilogy(res_SPJ2,'k.-',  label=f\"S2PJ   slope={np.round(-l5,3)}\")\n",
    "\n",
    "plt.grid()\n",
    "#plt.legend(loc='upper center', bbox_to_anchor=(0.5, 1.32), ncol=1, fancybox=True, shadow=True)\n",
    "plt.legend()\n",
    "#plt.ylim(top=2000)\n",
    "plt.savefig('conv.pdf')\n",
    "plt.xlabel('iterations')\n",
    "plt.ylabel('error')\n",
    "plt.show()"
   ]
  }
 ],
 "metadata": {
  "kernelspec": {
   "display_name": "Python 3.9.5 64-bit",
   "language": "python",
   "name": "python3"
  },
  "language_info": {
   "codemirror_mode": {
    "name": "ipython",
    "version": 3
   },
   "file_extension": ".py",
   "mimetype": "text/x-python",
   "name": "python",
   "nbconvert_exporter": "python",
   "pygments_lexer": "ipython3",
   "version": "3.11.6"
  },
  "vscode": {
   "interpreter": {
    "hash": "f9f85f796d01129d0dd105a088854619f454435301f6ffec2fea96ecbd9be4ac"
   }
  }
 },
 "nbformat": 4,
 "nbformat_minor": 5
}
