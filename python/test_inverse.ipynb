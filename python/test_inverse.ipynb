{
 "cells": [
  {
   "cell_type": "markdown",
   "id": "6c2d6fde-a6a6-4d88-91e8-ea24e1157670",
   "metadata": {},
   "source": [
    "$$\\text{if}\\quad\\rho(I-A)<1$$\n",
    "$$A^{-1}=\\sum_{k=0}^{\\infty}(I-A)^k$$\n",
    "Preconditioned version\n",
    "$$A^{-1}\\mathbb{A}=(\\mathbb{A}^{-1}A)^{-1}=\\sum_{k=0}^{\\infty}(I-\\mathbb{A}^{-1}A)^k$$\n",
    "\n",
    "\n",
    "| Order    | Approximation |\n",
    "| :-------- | :------- |\n",
    "| $\\text{1 order}$ | $A^{-1}\\simeq\\mathbb{A}^{-1}$ |\n",
    "| $\\text{2 order}$ | $A^{-1}\\simeq2\\mathbb{A}^{-1} - \\mathbb{A}^{-1}A\\mathbb{A}^{-1}$ |\n",
    "| $\\text{3 order}$ | $A^{-1}\\simeq3\\mathbb{A}^{-1} - 3\\mathbb{A}^{-1}A\\mathbb{A}^{-1} + \\mathbb{A}^{-2}A^2\\mathbb{A}^{-1}$ |"
   ]
  },
  {
   "cell_type": "code",
   "execution_count": 2,
   "id": "596cbe13-da7f-4f23-9f16-10845c46c31f",
   "metadata": {},
   "outputs": [
    {
     "name": "stdout",
     "output_type": "stream",
     "text": [
      "spectral radius 0.7974972397358765\n",
      "condition number 3.0412352309165995\n",
      "det 1.3364645539143653e-52\n"
     ]
    },
    {
     "ename": "AttributeError",
     "evalue": "module 'mylib' has no attribute 'approxInverseEpsilon'",
     "output_type": "error",
     "traceback": [
      "\u001b[0;31m---------------------------------------------------------------------------\u001b[0m",
      "\u001b[0;31mAttributeError\u001b[0m                            Traceback (most recent call last)",
      "\u001b[1;32m/Users/nucar/projects/splittingschemes/python/test_inverse.ipynb Cell 3\u001b[0m line \u001b[0;36m1\n\u001b[1;32m     <a href='vscode-notebook-cell:/Users/nucar/projects/splittingschemes/python/test_inverse.ipynb#W2sZmlsZQ%3D%3D?line=12'>13</a>\u001b[0m eps \u001b[39m=\u001b[39m np\u001b[39m.\u001b[39mlinspace(\u001b[39m0.1\u001b[39m, \u001b[39m7.0\u001b[39m, \u001b[39m20\u001b[39m)\n\u001b[1;32m     <a href='vscode-notebook-cell:/Users/nucar/projects/splittingschemes/python/test_inverse.ipynb#W2sZmlsZQ%3D%3D?line=13'>14</a>\u001b[0m \u001b[39mfor\u001b[39;00m val \u001b[39min\u001b[39;00m eps:\n\u001b[0;32m---> <a href='vscode-notebook-cell:/Users/nucar/projects/splittingschemes/python/test_inverse.ipynb#W2sZmlsZQ%3D%3D?line=14'>15</a>\u001b[0m     appoximateInvA \u001b[39m=\u001b[39m mylib\u001b[39m.\u001b[39;49mapproxInverseEpsilon(A, \u001b[39m3\u001b[39m, val)    \n\u001b[1;32m     <a href='vscode-notebook-cell:/Users/nucar/projects/splittingschemes/python/test_inverse.ipynb#W2sZmlsZQ%3D%3D?line=15'>16</a>\u001b[0m     errA\u001b[39m.\u001b[39mappend(np\u001b[39m.\u001b[39mlinalg\u001b[39m.\u001b[39mnorm(invA\u001b[39m-\u001b[39mappoximateInvA))\n\u001b[1;32m     <a href='vscode-notebook-cell:/Users/nucar/projects/splittingschemes/python/test_inverse.ipynb#W2sZmlsZQ%3D%3D?line=16'>17</a>\u001b[0m     \u001b[39m#xx = mylib.solveApproxInv(A, b, np.zeros(size), nit=10, N=10, epsilon=eps)\u001b[39;00m\n",
      "\u001b[0;31mAttributeError\u001b[0m: module 'mylib' has no attribute 'approxInverseEpsilon'"
     ]
    }
   ],
   "source": [
    "import numpy as np\n",
    "from matplotlib import pyplot as plt\n",
    "\n",
    "def approxInverseEpsilon(A):\n",
    "    #TODO\n",
    "    pass\n",
    "\n",
    "size = 100\n",
    "A = 0.3*np.eye(size) + 0.01*np.random.rand(size,size)\n",
    "print(\"spectral radius\", np.max(np.abs(np.linalg.eigvals(A))))\n",
    "print(\"condition number\", np.linalg.cond(A))\n",
    "print(\"det\", np.linalg.det(A))\n",
    "\n",
    "b = np.random.rand(size)\n",
    "x = np.linalg.solve(A,b)\n",
    "invA = np.linalg.inv(A)\n",
    "\n",
    "error = []\n",
    "errA = []\n",
    "eps = np.linspace(0.1, 7.0, 20)\n",
    "for val in eps:\n",
    "    appoximateInvA = approxInverseEpsilon(A, 3, val)    \n",
    "    errA.append(np.linalg.norm(invA-appoximateInvA))\n",
    "    #xx = mylib.solveApproxInv(A, b, np.zeros(size), nit=10, N=10, epsilon=eps)\n",
    "    xx = np.dot(appoximateInvA,b)\n",
    "    error.append(np.linalg.norm(b-np.dot(A,xx)))\n",
    "\n",
    "plt.semilogy(eps, errA, '.-')\n",
    "plt.semilogy(eps, error, '.-')\n",
    "plt.grid()"
   ]
  }
 ],
 "metadata": {
  "kernelspec": {
   "display_name": "Python 3.10.6 ('venv_splitting': venv)",
   "language": "python",
   "name": "python3"
  },
  "language_info": {
   "codemirror_mode": {
    "name": "ipython",
    "version": 3
   },
   "file_extension": ".py",
   "mimetype": "text/x-python",
   "name": "python",
   "nbconvert_exporter": "python",
   "pygments_lexer": "ipython3",
   "version": "3.11.6"
  },
  "vscode": {
   "interpreter": {
    "hash": "ed0acf2d9dec854a11a7ffa1badc8405f78938788ee3346c584b91ef6912d220"
   }
  }
 },
 "nbformat": 4,
 "nbformat_minor": 5
}
