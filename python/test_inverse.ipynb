{
 "cells": [
  {
   "cell_type": "code",
   "execution_count": 1,
   "id": "d45863b7-0730-4ec6-8338-0e1f1f853487",
   "metadata": {},
   "outputs": [],
   "source": [
    "import mylib\n",
    "import numpy as np\n",
    "from matplotlib import pyplot as plt"
   ]
  },
  {
   "cell_type": "code",
   "execution_count": 32,
   "id": "5376e199-0c8b-4abb-8d28-1723329b5680",
   "metadata": {},
   "outputs": [],
   "source": [
    "size = 20\n",
    "A = 5*np.eye(size) + 0.1*np.random.rand(size)\n",
    "print(\"spectral radius\", np.max(np.abs(np.linalg.eigvals(A))))\n",
    "print(\"determinant\", np.linalg.det(A))"
   ]
  },
  {
   "cell_type": "code",
   "execution_count": 33,
   "id": "3e494ca2-ded8-4514-ac72-f0c51b60bd51",
   "metadata": {},
   "outputs": [
    {
     "data": {
      "image/png": "[encoded data removed]",
      "text/plain": [
       "<Figure size 864x360 with 1 Axes>"
      ]
     },
     "metadata": {
      "needs_background": "light"
     },
     "output_type": "display_data"
    }
   ],
   "source": [
    "invA = np.linalg.inv(A)\n",
    "errors = []\n",
    "for n in range(1, 10):\n",
    "    appoximateInvA = mylib.approxInverseEpsilon(A, n, 0.1)\n",
    "    errors.append(np.linalg.norm(invA-appoximateInvA))\n",
    "\n",
    "plt.figure(figsize=(12,5))\n",
    "plt.semilogy(errors, '.')\n",
    "plt.grid()\n",
    "plt.show()"
   ]
  },
  {
   "cell_type": "code",
   "execution_count": null,
   "id": "8bf1575a-a1a8-4eae-a3ee-734364c3c6f7",
   "metadata": {},
   "outputs": [],
   "source": []
  }
 ],
 "metadata": {
  "kernelspec": {
   "display_name": "Python 3 (ipykernel)",
   "language": "python",
   "name": "python3"
  },
  "language_info": {
   "codemirror_mode": {
    "name": "ipython",
    "version": 3
   },
   "file_extension": ".py",
   "mimetype": "text/x-python",
   "name": "python",
   "nbconvert_exporter": "python",
   "pygments_lexer": "ipython3",
   "version": "3.8.10"
  }
 },
 "nbformat": 4,
 "nbformat_minor": 5
}
