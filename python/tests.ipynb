{
 "cells": [
  {
   "cell_type": "code",
   "execution_count": 1,
   "id": "c2440fa1-f467-41f4-b2eb-33ebd45145e4",
   "metadata": {},
   "outputs": [],
   "source": [
    "import numpy as np\n",
    "import matplotlib.pyplot as plt"
   ]
  },
  {
   "cell_type": "code",
   "execution_count": null,
   "id": "63d8d886-24a6-4eaa-9941-07c1d77e2380",
   "metadata": {},
   "outputs": [],
   "source": [
    "a = 1.0\n",
    "b = 5.0\n",
    "c = 1.0\n",
    "d = 1.0\n",
    "freq = 3.0\n",
    "\n",
    "def u(x):\n",
    "    return a + np.exp(-np.sin(b*x))\n",
    "\n",
    "def dudx(x):\n",
    "    return -b*np.cos(b*x)*np.exp(-np.sin(b*x))\n",
    "\n",
    "def nu(x):\n",
    "    return c + d*np.sin(freq*x)\n",
    "\n",
    "def lapl(x):\n",
    "    return (d*freq*np.cos(freq*x))*(-b*np.cos(b*x)*np.exp(-np.sin(b*x))) + (c+d*np.sin(freq*x))*np.square(b)*np.exp(-np.sin(b*x))*(np.sin(b*x)+np.square(np.cos(b*x)))\n",
    "\n",
    "\n",
    "x = np.linspace(0.0, 2.0*np.pi, 1000)\n",
    "\n",
    "fig = plt.figure(figsize=(20,8))\n",
    "plt.plot(x, u(x), label='u')\n",
    "plt.plot(x, nu(x), label='nu')\n",
    "plt.plot(x, dudx(x), label='dudx')\n",
    "#plt.plot(x, lapl(x), label='lapl')\n",
    "plt.legend()\n",
    "plt.grid()"
   ]
  },
  {
   "cell_type": "code",
   "execution_count": null,
   "id": "080b4be2",
   "metadata": {},
   "outputs": [],
   "source": [
    "N = 10\n",
    "r = 3\n",
    "A = np.random.randn(N,N)\n",
    "B = np.zeros((N,r))\n",
    "\n",
    "print(np.linalg.det(A), np.linalg.cond(A))\n",
    "\n",
    "def wgen(N,r):\n",
    "    return np.sin(np.arange(1,N+1)*np.power(2,r-1)*2.0*np.pi/(N+1))\n",
    "\n",
    "for k in np.arange(r):\n",
    "    B[:,k] = wgen(N,k+1)\n",
    "\n",
    "C = np.dot(np.dot(B.T, A), B)\n",
    "Cinv = np.linalg.inv(C)\n",
    "Ainv = np.dot(B, np.dot(Cinv, B.T))\n",
    "np.dot(A,Ainv)\n",
    "\n",
    "\n"
   ]
  }
 ],
 "metadata": {
  "kernelspec": {
   "display_name": "Python 3.8.10 64-bit",
   "language": "python",
   "name": "python3"
  },
  "language_info": {
   "codemirror_mode": {
    "name": "ipython",
    "version": 3
   },
   "file_extension": ".py",
   "mimetype": "text/x-python",
   "name": "python",
   "nbconvert_exporter": "python",
   "pygments_lexer": "ipython3",
   "version": "3.8.10"
  },
  "vscode": {
   "interpreter": {
    "hash": "916dbcbb3f70747c44a77c7bcd40155683ae19c65e1c03b4aa3499c5328201f1"
   }
  }
 },
 "nbformat": 4,
 "nbformat_minor": 5
}
