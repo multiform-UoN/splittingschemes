{
 "cells": [
  {
   "cell_type": "markdown",
   "id": "164dd590-e637-492a-9ecd-ab2a97ce1f34",
   "metadata": {},
   "source": [
    "# Splitting Schemes for Segregated solvers\n",
    "We are interested to investigate\n",
    "\\begin{equation}\n",
    "\\begin{cases}\n",
    "    Au + Bv = 0\\\\\n",
    "    Cv - Du = 0\n",
    "\\end{cases}\n",
    "\\end{equation}"
   ]
  },
  {
   "cell_type": "code",
   "execution_count": 1,
   "id": "b09ee38f-b38c-49fe-af18-363010f5486a",
   "metadata": {},
   "outputs": [],
   "source": [
    "import numpy as np\n",
    "import scipy.sparse as sparse\n",
    "import scipy.linalg as linalg\n",
    "import matplotlib.pyplot as plt"
   ]
  },
  {
   "cell_type": "code",
   "execution_count": 2,
   "id": "0e7cd531-ebc5-47d9-b8e9-b2ed393a826e",
   "metadata": {},
   "outputs": [],
   "source": [
    "size = 20\n",
    "density = 0.1 # 10% of the matrix element are non-zero\n",
    "A = sparse.rand(size, size, density=density, format=\"csr\", random_state=41)\n",
    "B = sparse.rand(size, size, density=density, format=\"csr\", random_state=42)\n",
    "C = sparse.rand(size, size, density=density, format=\"csr\", random_state=43)\n",
    "D = sparse.rand(size, size, density=density, format=\"csr\", random_state=44)"
   ]
  },
  {
   "cell_type": "code",
   "execution_count": 8,
   "id": "d1af7372-721c-45f3-8a04-2c852f65407d",
   "metadata": {},
   "outputs": [
    {
     "data": {
      "image/png": "[encoded data removed]",
      "text/plain": [
       "<Figure size 576x360 with 4 Axes>"
      ]
     },
     "metadata": {
      "needs_background": "light"
     },
     "output_type": "display_data"
    }
   ],
   "source": [
    "fig, axs = plt.subplots(2, 2, figsize=(8,5))\n",
    "axs[0,0].matshow(A.todense())\n",
    "axs[0,1].matshow(B.todense())\n",
    "axs[1,0].matshow(C.todense())\n",
    "axs[1,1].matshow(D.todense())\n",
    "plt.show()"
   ]
  },
  {
   "cell_type": "markdown",
   "id": "6bfafd9f",
   "metadata": {},
   "source": [
    "## Florin's Method\n",
    "\\begin{equation}\n",
    "\\begin{matrix}\n",
    "(P_0)\\\\\n",
    "(P_1)\n",
    "\\end{matrix}\n",
    "\\quad\n",
    "\\begin{cases}\n",
    "    Au^{(k+2)} + Bv^{(k+1)} &= 0\\\\\n",
    "    Cv^{(k+1)} - Du^{(k)} &= L\\left(v^{(k+1)}-v^{k} \\right)\n",
    "\\end{cases}\n",
    "\\qquad\n",
    "L\\in\\mathbb{R}\n",
    "\\end{equation}\n",
    "\n",
    "therefore we can build the sequence \n",
    "\n",
    "$$v^{0}\\overset{(P_1)}{\\longrightarrow} u^{0} \\overset{(P_0)}{\\longrightarrow} v^{1}\\overset{(P_1)}{\\longrightarrow} u^{1} \\overset{(P_0)}{\\longrightarrow} v^{2}\\overset{(P_1)}{\\longrightarrow} u^{2} \\overset{(P_0)}{\\longrightarrow} v^{3}\\overset{(P_1)}{\\longrightarrow} u^{3} \\overset{(P_0)}{\\longrightarrow} v^{4}\\overset{(P_1)}{\\longrightarrow} u^{4} \\overset{(P_0)}{\\longrightarrow} \\dots$$\n",
    "\n",
    "Problem $(P_1)$ consists o solving the system $\\left(C - LI\\right)v^{k+1} = Du^k-LIv^k$\n",
    "\n",
    "Problem $(P_0)$ consists on solving $Au^{k+2}=-Bv^{k+1}$"
   ]
  },
  {
   "cell_type": "code",
   "execution_count": 12,
   "id": "d4e79fcd",
   "metadata": {},
   "outputs": [],
   "source": [
    "def method_Florin(A, B, C, D, L, **kwargs):\n",
    "    pass"
   ]
  },
  {
   "cell_type": "markdown",
   "id": "f8e32116",
   "metadata": {},
   "source": [
    "## Matteo's Method\n"
   ]
  }
 ],
 "metadata": {
  "kernelspec": {
   "display_name": "Python 3 (ipykernel)",
   "language": "python",
   "name": "python3"
  },
  "language_info": {
   "codemirror_mode": {
    "name": "ipython",
    "version": 3
   },
   "file_extension": ".py",
   "mimetype": "text/x-python",
   "name": "python",
   "nbconvert_exporter": "python",
   "pygments_lexer": "ipython3",
   "version": "3.8.10"
  }
 },
 "nbformat": 4,
 "nbformat_minor": 5
}
